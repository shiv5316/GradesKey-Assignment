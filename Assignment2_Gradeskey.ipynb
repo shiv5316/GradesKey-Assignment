{
  "nbformat": 4,
  "nbformat_minor": 0,
  "metadata": {
    "colab": {
      "provenance": []
    },
    "kernelspec": {
      "name": "python3",
      "display_name": "Python 3"
    },
    "language_info": {
      "name": "python"
    }
  },
  "cells": [
    {
      "cell_type": "markdown",
      "source": [
        "#  Round Robin Load Balancing Algorithm Code"
      ],
      "metadata": {
        "id": "NubjEOvhCHsa"
      }
    },
    {
      "cell_type": "code",
      "execution_count": 1,
      "metadata": {
        "colab": {
          "base_uri": "https://localhost:8080/"
        },
        "id": "U9vS_TaBAu01",
        "outputId": "93ea8b35-6773-4101-f39d-f24ca138eae5"
      },
      "outputs": [
        {
          "output_type": "stream",
          "name": "stdout",
          "text": [
            "Server1\n",
            "Server2\n",
            "Server3\n",
            "Server1\n",
            "Server2\n",
            "Server3\n",
            "Server1\n",
            "Server2\n",
            "Server3\n",
            "Server1\n"
          ]
        }
      ],
      "source": [
        "class RoundRobinLoadBalancer:\n",
        "    def __init__(self, servers):\n",
        "        self.servers = servers\n",
        "        self.index = 0\n",
        "\n",
        "    def get_next_server(self):\n",
        "        server = self.servers[self.index]\n",
        "        self.index = (self.index + 1) % len(self.servers)\n",
        "        return server\n",
        "\n",
        "# Example usage\n",
        "servers = ['Server1', 'Server2', 'Server3']\n",
        "load_balancer = RoundRobinLoadBalancer(servers)\n",
        "\n",
        "for _ in range(10):\n",
        "    print(load_balancer.get_next_server())"
      ]
    },
    {
      "cell_type": "markdown",
      "source": [
        "# Weighted Load Balancing Functionality"
      ],
      "metadata": {
        "id": "DcZhRMyECKoB"
      }
    },
    {
      "cell_type": "code",
      "source": [
        "class WeightedLoadBalancer:\n",
        "    def __init__(self, servers, weights):\n",
        "        self.servers = servers\n",
        "        self.weights = weights\n",
        "        self.index = 0\n",
        "        self.current_weight = 0\n",
        "\n",
        "    def get_next_server(self):\n",
        "        total_weight = sum(self.weights)\n",
        "        while True:\n",
        "            self.index = (self.index + 1) % len(self.servers)\n",
        "            self.current_weight += self.weights[self.index]\n",
        "            if self.current_weight >= total_weight:\n",
        "                self.current_weight -= total_weight\n",
        " return self.servers[self.index]\n",
        "\n",
        "# Example usage\n",
        "servers = ['Server1', 'Server2', 'Server3']\n",
        "weights = [1, 2, 3]  # Server1: 1, Server2: 2, Server3: 3\n",
        "load_balancer = WeightedLoadBalancer(servers, weights)\n",
        "\n",
        "for _ in range(10):\n",
        "    print(load_balancer.get_next_server())"
      ],
      "metadata": {
        "colab": {
          "base_uri": "https://localhost:8080/",
          "height": 106
        },
        "id": "6NWwmqpSBAJD",
        "outputId": "60703b9c-fbb8-4921-8094-e90d1ca485c2"
      },
      "execution_count": 5,
      "outputs": [
        {
          "output_type": "error",
          "ename": "IndentationError",
          "evalue": "unindent does not match any outer indentation level (<tokenize>, line 15)",
          "traceback": [
            "\u001b[0;36m  File \u001b[0;32m\"<tokenize>\"\u001b[0;36m, line \u001b[0;32m15\u001b[0m\n\u001b[0;31m    return self.servers[self.index]\u001b[0m\n\u001b[0m    ^\u001b[0m\n\u001b[0;31mIndentationError\u001b[0m\u001b[0;31m:\u001b[0m unindent does not match any outer indentation level\n"
          ]
        }
      ]
    },
    {
      "cell_type": "markdown",
      "source": [
        "# LRU Caching Code"
      ],
      "metadata": {
        "id": "eFp97wTtCPJ9"
      }
    },
    {
      "cell_type": "code",
      "source": [
        "from collections import OrderedDict\n",
        "class LRUCache:\n",
        "    def __init__(self, capacity: int):\n",
        "        self.cache = OrderedDict()\n",
        "        self.capacity = capacity\n",
        "\n",
        "    def get(self, key: int) -> int:\n",
        "        if key not in self.cache:\n",
        "            return -1\n",
        "        else:\n",
        "            self.cache.move_to_end(key)\n",
        "            return self.cache[key]\n",
        "\n",
        "    def put(self, key: int, value: int) -> None:\n",
        "        if key in self.cache:\n",
        "            self.cache.move_to_end(key)\n",
        "        self.cache[key] = value\n",
        "        if len(self.cache) > self.capacity:\n",
        "            self.cache.popitem(last=False)\n",
        "\n",
        "# Example usage\n",
        "lru_cache = LRUCache(2)\n",
        "lru_cache.put(1, 1)\n",
        "lru_cache.put(2, 2)\n",
        "print(lru_cache.get(1))\n",
        "lru_cache.put(3, 3)\n",
        "print(lru_cache.get(2))"
      ],
      "metadata": {
        "colab": {
          "base_uri": "https://localhost:8080/"
        },
        "id": "fjsUOaJ3BNoj",
        "outputId": "06beecf4-3270-40b8-a368-28e6fd69fd6e"
      },
      "execution_count": 6,
      "outputs": [
        {
          "output_type": "stream",
          "name": "stdout",
          "text": [
            "1\n",
            "-1\n"
          ]
        }
      ]
    }
  ]
}