{
  "nbformat": 4,
  "nbformat_minor": 0,
  "metadata": {
    "colab": {
      "provenance": []
    },
    "kernelspec": {
      "name": "python3",
      "display_name": "Python 3"
    },
    "language_info": {
      "name": "python"
    }
  },
  "cells": [
    {
      "cell_type": "code",
      "execution_count": null,
      "metadata": {
        "id": "P2i301wb0kWW"
      },
      "outputs": [],
      "source": []
    },
    {
      "cell_type": "code",
      "source": [
        "from pyspark.sql import SparkSession\n",
        "import random\n",
        "import pandas as pd\n",
        "from pyspark.sql import functions as F\n",
        "spark = SparkSession.builder \\.appName(\"ResultManagementSystem\") \\.getOrCreate()\n",
        "def generate_student_profiles(num_students=10000):\n",
        "    names = [f'Student{i}' for i in range(num_students)]\n",
        "    return names\n",
        "subjects = [\"Electronics\", \"Programming\", \"Database\", \"Data Science\", \"Mathematics\", \"DSA\"]\n",
        "\n",
        "def generate_marks(num_students=10000, subjects=subjects):\n",
        "    marks = {subject: [random.randint(0, 100) for _ in range(num_students)] for subject in subjects}\n",
        "    return pd.DataFrame(marks)\n",
        "\n",
        "student_names = generate_student_profiles()\n",
        "marks_df = generate_marks()\n",
        "marks_df['Student Name'] = student_names\n",
        "spark_df = spark.createDataFrame(marks_df)\n",
        "\n",
        "average_marks = spark_df.select([spark_df[subject].alias(subject) for subject in subjects]) \\.agg(*[F.avg(subject).alias(f\"avg_{subject}\") for subject in subjects])\n",
        "min_max_expressions = [F.min(subject).alias(f\"min_{subject}\") for subject in subjects] + \\[F.max(subject).alias(f\"max_{subject}\") for subject in subjects]\n",
        "min_max_marks = spark_df.select([spark_df[subject].alias(subject) for subject in subjects]) \\.agg(*min_max_expressions)\n",
        "\n",
        "spark_df = spark_df.withColumn(\"Total Marks\", sum(spark_df[subject] for subject in subjects))\n",
        "spark_df = spark_df.withColumn(\"Percentage\", (F.col(\"Total Marks\") / (len(subjects) * 100)) * 100)\n",
        "spark_df.show()\n",
        "average_marks.show()\n",
        "min_max_marks.show()\n",
        "spark.stop()\n"
      ],
      "metadata": {
        "colab": {
          "base_uri": "https://localhost:8080/"
        },
        "id": "r_qgdT0DyzwB",
        "outputId": "c86dbf49-cf1c-4106-81cc-5ed851848b73"
      },
      "execution_count": null,
      "outputs": [
        {
          "output_type": "stream",
          "name": "stdout",
          "text": [
            "+-----------+-----------+--------+------------+-----------+---+------------+-----------+------------------+\n",
            "|Electronics|Programming|Database|Data Science|Mathematics|DSA|Student Name|Total Marks|        Percentage|\n",
            "+-----------+-----------+--------+------------+-----------+---+------------+-----------+------------------+\n",
            "|          5|         64|      26|          36|         29| 21|    Student0|        181|30.166666666666668|\n",
            "|          3|         62|      96|          24|         67| 51|    Student1|        303|              50.5|\n",
            "|          9|         50|      37|          38|         32|  9|    Student2|        175|29.166666666666668|\n",
            "|         87|         54|      63|          31|         82| 87|    Student3|        404| 67.33333333333333|\n",
            "|         83|         79|      47|           0|         73| 23|    Student4|        305| 50.83333333333333|\n",
            "|         48|         50|      86|          74|         15| 10|    Student5|        283| 47.16666666666667|\n",
            "|         32|         82|      64|          70|          6| 18|    Student6|        272| 45.33333333333333|\n",
            "|         48|         34|      98|          51|         67| 45|    Student7|        343|57.166666666666664|\n",
            "|         71|         61|      88|           4|         75| 85|    Student8|        384|              64.0|\n",
            "|         77|          5|      80|          18|         61| 60|    Student9|        301| 50.16666666666667|\n",
            "|         29|         90|      31|          22|         68| 77|   Student10|        317| 52.83333333333333|\n",
            "|         46|         14|      46|          87|          6| 77|   Student11|        276|              46.0|\n",
            "|         36|          0|      41|          15|         53|  5|   Student12|        150|              25.0|\n",
            "|         26|         29|      32|           6|          9| 13|   Student13|        115|19.166666666666668|\n",
            "|         81|         59|      52|          37|         60| 40|   Student14|        329|54.833333333333336|\n",
            "|          9|         79|      25|          32|         30| 13|   Student15|        188|31.333333333333336|\n",
            "|         84|         49|      50|           1|         35| 55|   Student16|        274|45.666666666666664|\n",
            "|         89|         59|      91|          66|         96| 75|   Student17|        476| 79.33333333333333|\n",
            "|         50|          5|      30|          56|          8| 93|   Student18|        242| 40.33333333333333|\n",
            "|         96|         24|       4|          26|         83| 25|   Student19|        258|              43.0|\n",
            "+-----------+-----------+--------+------------+-----------+---+------------+-----------+------------------+\n",
            "only showing top 20 rows\n",
            "\n",
            "+---------------+---------------+------------+----------------+---------------+-------+\n",
            "|avg_Electronics|avg_Programming|avg_Database|avg_Data Science|avg_Mathematics|avg_DSA|\n",
            "+---------------+---------------+------------+----------------+---------------+-------+\n",
            "|        49.8147|        49.6871|     50.5478|         49.9476|        49.5105|50.2299|\n",
            "+---------------+---------------+------------+----------------+---------------+-------+\n",
            "\n",
            "+---------------+---------------+------------+----------------+---------------+-------+---------------+---------------+------------+----------------+---------------+-------+\n",
            "|min_Electronics|min_Programming|min_Database|min_Data Science|min_Mathematics|min_DSA|max_Electronics|max_Programming|max_Database|max_Data Science|max_Mathematics|max_DSA|\n",
            "+---------------+---------------+------------+----------------+---------------+-------+---------------+---------------+------------+----------------+---------------+-------+\n",
            "|              0|              0|           0|               0|              0|      0|            100|            100|         100|             100|            100|    100|\n",
            "+---------------+---------------+------------+----------------+---------------+-------+---------------+---------------+------------+----------------+---------------+-------+\n",
            "\n"
          ]
        }
      ]
    }
  ]
}